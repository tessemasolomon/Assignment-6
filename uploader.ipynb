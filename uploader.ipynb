{
 "cells": [
  {
   "cell_type": "markdown",
   "metadata": {
    "id": "Lo68A2ltMkJZ"
   },
   "source": [
    "# ECE 57000: Assignment Uploader\n",
    "\n",
    "Note:\n",
    "The file helps generate html version of your ipynb file."
   ]
  },
  {
   "cell_type": "markdown",
   "metadata": {
    "id": "UeF5TawzD6HI"
   },
   "source": [
    "# Mount your drive"
   ]
  },
  {
   "cell_type": "code",
   "execution_count": 1,
   "metadata": {
    "colab": {
     "base_uri": "https://localhost:8080/"
    },
    "executionInfo": {
     "elapsed": 29042,
     "status": "ok",
     "timestamp": 1695922815005,
     "user": {
      "displayName": "ZIHAN ZHOU",
      "userId": "13259402341297468778"
     },
     "user_tz": 240
    },
    "id": "_LNR5ihZCVV4",
    "outputId": "365d3e60-c1e0-4ce1-96b0-d60343452356"
   },
   "outputs": [
    {
     "name": "stdout",
     "output_type": "stream",
     "text": [
      "Mounted at /content/drive\n"
     ]
    }
   ],
   "source": [
    "from google.colab import drive\n",
    "drive.mount('/content/drive')"
   ]
  },
  {
   "cell_type": "markdown",
   "metadata": {
    "id": "aEcdd-9ZD96z"
   },
   "source": [
    "# Change the `your_ipynb_file_dir` to the exact path of your jupyter notebook."
   ]
  },
  {
   "cell_type": "code",
   "execution_count": null,
   "metadata": {
    "id": "Dfqg8VMOCXWp"
   },
   "outputs": [],
   "source": [
    "def preprocess(dir):\n",
    "    # To deal with the error when there is [] in the path\n",
    "    dir.replace('[','[[]')\n",
    "    dir.replace(']','[]]')\n",
    "    return dir\n",
    "\n",
    "########################        YOUR CODE        ##########################\n",
    "your_ipynb_file_dir = 'Assignment_6.ipynb' # Example: '/content/drive/MyDrive/ECE570/Assignment_6.ipynb'\n",
    "########################      END YOUR CODE      ##########################\n",
    "\n",
    "!jupyter nbconvert --to html '{preprocess(your_ipynb_file_dir)}'"
   ]
  },
  {
   "cell_type": "markdown",
   "metadata": {
    "id": "MbNbUihJETjx"
   },
   "source": [
    "# There should be a html file generated in the same directory as your ipynb notebook. Download and then open that html file using Chrome and select Print and save as pdf."
   ]
  }
 ],
 "metadata": {
  "colab": {
   "machine_shape": "hm",
   "provenance": [],
   "toc_visible": true
  },
  "kernelspec": {
   "display_name": "Python 3",
   "language": "python",
   "name": "python3"
  },
  "language_info": {
   "codemirror_mode": {
    "name": "ipython",
    "version": 3
   },
   "file_extension": ".py",
   "mimetype": "text/x-python",
   "name": "python",
   "nbconvert_exporter": "python",
   "pygments_lexer": "ipython3",
   "version": "3.8.8"
  },
  "vscode": {
   "interpreter": {
    "hash": "b0fa6594d8f4cbf19f97940f81e996739fb7646882a419484c72d19e05852a7e"
   }
  }
 },
 "nbformat": 4,
 "nbformat_minor": 1
}
